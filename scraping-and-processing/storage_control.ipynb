{
 "cells": [
  {
   "cell_type": "code",
   "execution_count": 15,
   "metadata": {},
   "outputs": [],
   "source": [
    "import configparser\n",
    "from glob import glob\n",
    "import json\n",
    "from datetime import datetime, date, timezone, timedelta\n",
    "from time import sleep"
   ]
  },
  {
   "cell_type": "code",
   "execution_count": 2,
   "metadata": {},
   "outputs": [],
   "source": [
    "stamp_path = r'.//scraping//instagram//stamps.ini'\n",
    "temp_storage = r'./scraping/data/temp_storage/'\n",
    "storage = r'./scraping/data/storage/'"
   ]
  },
  {
   "cell_type": "code",
   "execution_count": 9,
   "metadata": {},
   "outputs": [
    {
     "name": "stdout",
     "output_type": "stream",
     "text": [
      "hr3 1577833200\n",
      "bayerischer_rundfunk 1577833200\n",
      "mdr_th 1577833200\n",
      "mdr_san 1577833200\n",
      "mdr_sn 1577833200\n",
      "wdr2 1577833200\n",
      "tagesschau 1577833200\n",
      "welt 1577833200\n",
      "spiegelmagazin 1577833200\n",
      "ndr2 1577833200\n",
      "ndrhamburg 1577833200\n",
      "ndrniedersachsen 1577833200\n",
      "swraktuell 1577833200\n",
      "swr3online 1577833200\n",
      "faz 1577833200\n"
     ]
    }
   ],
   "source": [
    "config = configparser.ConfigParser()\n",
    "config.read(stamp_path)\n",
    "for key in config['users']:\n",
    "    print(key, config['users'][key])"
   ]
  },
  {
   "cell_type": "code",
   "execution_count": 52,
   "metadata": {},
   "outputs": [],
   "source": [
    "def append_to_json(new_data, file):\n",
    "    \n",
    "    def write_json(data, file):\n",
    "        with open(file,'w') as f:\n",
    "            json.dump(data, f, indent=4)\n",
    "            f.close()\n",
    "    \n",
    "    try:\n",
    "        with open(file) as json_file:\n",
    "            data = json.load(json_file)\n",
    "\n",
    "            data += new_data\n",
    "\n",
    "            json_file.close()\n",
    "    except FileNotFoundError:\n",
    "        data = new_data\n",
    "\n",
    "    try:\n",
    "        write_json(data, file)\n",
    "    except OSError:\n",
    "        sleep(0.2)\n",
    "        write_json(data, file)"
   ]
  },
  {
   "cell_type": "code",
   "execution_count": 55,
   "metadata": {},
   "outputs": [
    {
     "name": "stdout",
     "output_type": "stream",
     "text": [
      "Completed: ./scraping/data/temp_storage\\BR_Presse.txt\n",
      "Completed: ./scraping/data/temp_storage\\derspiegel.txt\n",
      "Completed: ./scraping/data/temp_storage\\faznet.txt\n",
      "Completed: ./scraping/data/temp_storage\\hessenschau.txt\n",
      "Completed: ./scraping/data/temp_storage\\hrPresse.txt\n",
      "Completed: ./scraping/data/temp_storage\\MDRAktuell.txt\n",
      "Completed: ./scraping/data/temp_storage\\mdrde.txt\n",
      "Completed: ./scraping/data/temp_storage\\MDR_SAN.txt\n",
      "Completed: ./scraping/data/temp_storage\\MDR_SN.txt\n",
      "Completed: ./scraping/data/temp_storage\\mdr_th.txt\n",
      "Completed: ./scraping/data/temp_storage\\ndr.txt\n",
      "Completed: ./scraping/data/temp_storage\\NDRinfo.txt\n",
      "Completed: ./scraping/data/temp_storage\\swr3.txt\n",
      "Completed: ./scraping/data/temp_storage\\SWRAktuellBW.txt\n",
      "Completed: ./scraping/data/temp_storage\\SZ.txt\n",
      "Completed: ./scraping/data/temp_storage\\tagesschau.txt\n",
      "Completed: ./scraping/data/temp_storage\\WDR.txt\n",
      "Completed: ./scraping/data/temp_storage\\WDR2.txt\n",
      "Completed: ./scraping/data/temp_storage\\WDRaktuell.txt\n",
      "Completed: ./scraping/data/temp_storage\\welt.txt\n"
     ]
    }
   ],
   "source": [
    "temp_files = glob(temp_storage + \"*.txt\")\n",
    "for j in temp_files:\n",
    "    \n",
    "    f = open(j, mode=\"r\", encoding=\"utf-8\")\n",
    "    \n",
    "    dic_collection = {}\n",
    "    \n",
    "    for i in f:\n",
    "        \n",
    "        temp = json.loads(i[:-1])\n",
    "        s = temp['date']\n",
    "        dt = datetime(int(s[:4]), int(s[5:7]), int(s[8:10]), int(s[11:13]), int(s[14:16]), int(s[17:19])) # String to datetime.date\n",
    "        if dt.year < 2020:\n",
    "            print(dt)\n",
    "            break\n",
    "            \n",
    "        dic = {}\n",
    "        \n",
    "        dic['date'] = int(dt.timestamp())\n",
    "        dic['text'] = temp['content']\n",
    "        dic['user'] = temp['user']['username']\n",
    "        dic['shortcode'] = temp['id']\n",
    "        dic['platform'] = 'twitter'\n",
    "        dic['likes'] = temp['likeCount']\n",
    "        \n",
    "        year = str(dt.year)\n",
    "        month = str(dt.month)\n",
    "        \n",
    "        if year not in dic_collection:\n",
    "            dic_collection[year] = {}\n",
    "        if month not in dic_collection[year]:\n",
    "            dic_collection[year][month] = []\n",
    "        \n",
    "        dic_collection[year][month].append(dic)\n",
    "\n",
    "    # Closing file \n",
    "    f.close()\n",
    "    \n",
    "    for year in dic_collection:\n",
    "        for month in dic_collection[year]:\n",
    "            path = storage+year+'_'+month+'.json'\n",
    "            append_to_json(dic_collection[year][month], path)\n",
    "    \n",
    "    print('Completed:', j)"
   ]
  }
 ],
 "metadata": {
  "kernelspec": {
   "display_name": "Python 3",
   "language": "python",
   "name": "python3"
  },
  "language_info": {
   "codemirror_mode": {
    "name": "ipython",
    "version": 3
   },
   "file_extension": ".py",
   "mimetype": "text/x-python",
   "name": "python",
   "nbconvert_exporter": "python",
   "pygments_lexer": "ipython3",
   "version": "3.8.6"
  }
 },
 "nbformat": 4,
 "nbformat_minor": 4
}
