{
 "cells": [
  {
   "cell_type": "code",
   "execution_count": 4,
   "metadata": {},
   "outputs": [],
   "source": [
    "import json"
   ]
  },
  {
   "cell_type": "code",
   "execution_count": 2,
   "metadata": {},
   "outputs": [],
   "source": [
    "# Path to working directory\n",
    "w_dir = \"..//..//corona_data/\""
   ]
  },
  {
   "cell_type": "code",
   "execution_count": 8,
   "metadata": {},
   "outputs": [],
   "source": [
    "test = {\"day\": \"2020-01-01\", \"id\": 1}\n",
    "\n",
    "def append_to_json(new_data, file):\n",
    "    \n",
    "    def write_json(new_data, file):\n",
    "        with open(file,'w') as f:\n",
    "            json.dump(data, f, indent=4)\n",
    "    \n",
    "    try:\n",
    "        f = open(file, 'x')\n",
    "        f.write('{\\\"days\\\": []}')\n",
    "        f.close()\n",
    "    except FileExistsError:\n",
    "        pass\n",
    "      \n",
    "    with open(file) as json_file:\n",
    "        data = json.load(json_file)\n",
    "\n",
    "        temp = data['days']\n",
    "        \n",
    "        # appending data to emp_details \n",
    "        temp.append(new_data)\n",
    "\n",
    "    write_json(data, file)\n",
    "    \n",
    "append_to_json(test, w_dir+\"2020_01.json\")\n",
    "    "
   ]
  },
  {
   "cell_type": "code",
   "execution_count": null,
   "metadata": {},
   "outputs": [],
   "source": [
    "f.close()"
   ]
  }
 ],
 "metadata": {
  "kernelspec": {
   "display_name": "Python 3",
   "language": "python",
   "name": "python3"
  },
  "language_info": {
   "codemirror_mode": {
    "name": "ipython",
    "version": 3
   },
   "file_extension": ".py",
   "mimetype": "text/x-python",
   "name": "python",
   "nbconvert_exporter": "python",
   "pygments_lexer": "ipython3",
   "version": "3.8.6"
  }
 },
 "nbformat": 4,
 "nbformat_minor": 4
}
