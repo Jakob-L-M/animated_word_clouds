{
 "cells": [
  {
   "cell_type": "markdown",
   "metadata": {},
   "source": [
    "### Twitter Scraping\n",
    "\n",
    "#### External Libraries:\n",
    "- SNScraper (https://github.com/JustAnotherArchivist/snscrape)\n",
    "- tqdm"
   ]
  },
  {
   "cell_type": "code",
   "execution_count": null,
   "metadata": {},
   "outputs": [],
   "source": [
    "import os\n",
    "import json\n",
    "from tqdm import tqdm\n",
    "from datetime import date\n",
    "from time import time"
   ]
  },
  {
   "cell_type": "code",
   "execution_count": null,
   "metadata": {},
   "outputs": [],
   "source": [
    "def build_string(username, date):\n",
    "    return \"snscrape --jsonl --since=\" + date + \" twitter-user \" + username + \" >../data/temp_storage/\"+ username +\".txt\"\n",
    "\n",
    "with open('config.json', 'r') as f:\n",
    "    data = json.load(f)\n",
    "    last_update = data['last_update']\n",
    "    profiles = data['profiles']\n",
    "    \n",
    "start_time = time()\n",
    "    \n",
    "for profile in tqdm(profiles):\n",
    "    bashCommand = build_string(profile, last_update)\n",
    "    os.system('cmd /c' + bashCommand)\n",
    "\n",
    "with open('config.json', 'w') as f:\n",
    "    # using starting time to make sure no tweet will be lost\n",
    "    # rather have to deal with duplicates later\n",
    "    data['last_update'] = str(date.fromtimestamp(start_time))\n",
    "    json.dump(data, f)"
   ]
  }
 ],
 "metadata": {
  "kernelspec": {
   "display_name": "Python 3",
   "language": "python",
   "name": "python3"
  },
  "language_info": {
   "codemirror_mode": {
    "name": "ipython",
    "version": 3
   },
   "file_extension": ".py",
   "mimetype": "text/x-python",
   "name": "python",
   "nbconvert_exporter": "python",
   "pygments_lexer": "ipython3",
   "version": "3.8.6"
  }
 },
 "nbformat": 4,
 "nbformat_minor": 4
}
