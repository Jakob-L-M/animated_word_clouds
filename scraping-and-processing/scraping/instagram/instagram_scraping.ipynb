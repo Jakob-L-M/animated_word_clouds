{
 "cells": [
  {
   "cell_type": "markdown",
   "metadata": {},
   "source": [
    "## Twitter Scraping\n",
    "\n",
    "### Verwendete Biblioteken:\n",
    "- SNScraper (https://github.com/JustAnotherArchivist/snscrape)\n",
    "- Pandas (Link)"
   ]
  },
  {
   "cell_type": "code",
   "execution_count": 14,
   "metadata": {},
   "outputs": [],
   "source": [
    "import os\n",
    "import time\n",
    "from configparser import ConfigParser\n",
    "from datetime import datetime"
   ]
  },
  {
   "cell_type": "code",
   "execution_count": null,
   "metadata": {},
   "outputs": [],
   "source": [
    "c = 0\n",
    "for i in open(\"credentials.txt\").readlines():\n",
    "    if c == 0:\n",
    "        user = i[:-1]\n",
    "        c += 1\n",
    "    elif c == 1:\n",
    "        password = i\n",
    "\n",
    "var = os.system('cmd /c' + \"instagram-scraper -f profiles.txt -t=none --media-metadata -d=../data/instagram --latest-stamps=stamps.ini -u=\" + user + \" -p=\" + password)\n",
    "print(var)\n",
    "print(\"scraping completed\")"
   ]
  },
  {
   "cell_type": "code",
   "execution_count": 46,
   "metadata": {},
   "outputs": [],
   "source": [
    "def setup_config(time, file='stamps.ini', user='all'):\n",
    "    config = ConfigParser()\n",
    "    \n",
    "    # Testen, ob der Input ein Timestamp oder Datetime string ist\n",
    "    if type(time) == str:\n",
    "        t = str(int(datetime(int(time[:4]), int(time[5:7]), int(time[8:10])).timestamp()))\n",
    "    elif type(time) == int:\n",
    "        t = str(time)\n",
    "    else:\n",
    "        raise TypeError('time input must be datetime string \\\"yyyy-mm-dd\\\" or a timestamp')\n",
    "    \n",
    "    # Testen, ob wir eine stamps erzeugen müssen\n",
    "    if not os.path.isfile(file):\n",
    "        with open(file, mode='a'): pass\n",
    "    config.read('stamps.ini')\n",
    "    if 'users' not in config:\n",
    "        config['users'] = {}\n",
    "    \n",
    "    # Objekt erzeugen, in welches wir die Timestamps der einzelen Profile einfügen\n",
    "    users = config['users']\n",
    "    \n",
    "    if user == 'all':\n",
    "        for i in open('profiles.txt', 'r').readlines():\n",
    "            s = i[:-1]\n",
    "            if s[0] != '#':\n",
    "                users[s] = str(t)\n",
    "    else:\n",
    "        users[user] = str(t)\n",
    "        \n",
    "    with open(file, 'w') as configfile:\n",
    "        config.write(configfile)\n",
    "        \n",
    "setup_config(\"2020-01-01\")"
   ]
  },
  {
   "cell_type": "code",
   "execution_count": 65,
   "metadata": {},
   "outputs": [
    {
     "data": {
      "text/plain": [
       "1577833200.0"
      ]
     },
     "execution_count": 65,
     "metadata": {},
     "output_type": "execute_result"
    }
   ],
   "source": [
    "datetime(2020,1,1).timestamp()"
   ]
  }
 ],
 "metadata": {
  "kernelspec": {
   "display_name": "Python 3",
   "language": "python",
   "name": "python3"
  },
  "language_info": {
   "codemirror_mode": {
    "name": "ipython",
    "version": 3
   },
   "file_extension": ".py",
   "mimetype": "text/x-python",
   "name": "python",
   "nbconvert_exporter": "python",
   "pygments_lexer": "ipython3",
   "version": "3.8.6"
  }
 },
 "nbformat": 4,
 "nbformat_minor": 4
}
