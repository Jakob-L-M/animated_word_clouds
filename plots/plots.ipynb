{
 "cells": [
  {
   "cell_type": "code",
   "execution_count": null,
   "metadata": {},
   "outputs": [],
   "source": [
    "import pandas as pd\n",
    "import matplotlib.pyplot as plt\n",
    "import numpy as np"
   ]
  },
  {
   "cell_type": "markdown",
   "metadata": {},
   "source": [
    "### Tweets grouped by weeks over 130+ weeks"
   ]
  },
  {
   "cell_type": "code",
   "execution_count": null,
   "metadata": {},
   "outputs": [],
   "source": [
    "df = pd.read_csv('../scraping-and-processing/scraping/data/storage/main.csv')\n",
    "df['date'] = pd.to_datetime(df['date'])\n",
    "df['OR'] = 0\n",
    "for user in ['hessenschau', 'ndr', 'rbbabendschau', 'swr3', 'tagesschau', 'WDRaktuell', 'ZDFheute']:\n",
    "    filt = (df['user'] == user)\n",
    "    df.loc[filt,'OR'] = 1\n",
    "weeks = pd.date_range('2020-01-13', max(df['date']), freq=\"W\")\n",
    "lable = [str(i)[:10] for i in  weeks]"
   ]
  },
  {
   "cell_type": "code",
   "execution_count": null,
   "metadata": {},
   "outputs": [],
   "source": [
    "data = {}\n",
    "for user in df['user'].unique():\n",
    "    data[user] = []\n",
    "for week in range(0, len(weeks) - 1):\n",
    "    temp = df[np.logical_and(df[\"date\"] >= weeks[week], df[\"date\"] < weeks[week + 1])]\n",
    "    for user in df['user'].unique():\n",
    "        data[user].append(len(temp[temp['user'] == user]))\n",
    "data = pd.DataFrame(data, index=lable[:-1])\n",
    "ax = data.plot(kind='bar', stacked=True, figsize=(15, 8))\n",
    "ax.set_ylabel('#Tweets')\n",
    "plt.legend(title='User', bbox_to_anchor=(1.0, 1), loc='upper left')\n",
    "plt.locator_params(axis='x', nbins=20)\n",
    "plt.savefig('number_of_tweets_over_time_by_user.pdf')\n",
    "plt.show()"
   ]
  },
  {
   "cell_type": "code",
   "execution_count": null,
   "metadata": {},
   "outputs": [],
   "source": [
    "data = {}\n",
    "data['ÖR'] = []\n",
    "data['Privat'] = []\n",
    "for week in range(0, len(weeks) - 1):\n",
    "    temp = df[np.logical_and(df[\"date\"] >= weeks[week], df[\"date\"] < weeks[week + 1])]\n",
    "    data['ÖR'].append(len(temp[temp['OR'] == 1]))\n",
    "    data['Privat'].append(len(temp[temp['OR'] == 0]))\n",
    "data = pd.DataFrame(data, index=lable[:-1])\n",
    "ax = data.plot(kind='bar', stacked=True, figsize=(15, 8))\n",
    "ax.set_ylabel('#Tweets')\n",
    "plt.legend(title='Profile', bbox_to_anchor=(1.0, 1), loc='upper left')\n",
    "plt.locator_params(axis='x', nbins=20)\n",
    "plt.savefig('number_of_tweets_over_time_by_orga.pdf')\n",
    "plt.show()"
   ]
  },
  {
   "cell_type": "markdown",
   "metadata": {},
   "source": [
    "### Tweets by weekdays"
   ]
  },
  {
   "cell_type": "code",
   "execution_count": null,
   "metadata": {},
   "outputs": [],
   "source": [
    "df = pd.read_csv('../scraping-and-processing/scraping/data/storage/main.csv')\n",
    "df['date'] = [i.dayofweek for i in pd.to_datetime(df['date'])]\n",
    "plt.figure(figsize=(12,10))\n",
    "plt.bar(['Monday','Tuesday','Wednesday','Thursday','Friday','Saturday','Sunday'], [len(df[df['date'] == i]) for i in range(0,7)]);\n",
    "plt.title(\"Number of Tweets posted, sorted by Weekdays\")\n",
    "plt.savefig('number_of_tweets_by_weekdays.pdf')\n",
    "plt.show()"
   ]
  },
  {
   "cell_type": "markdown",
   "metadata": {},
   "source": [
    "### Tweets grouped by weeks for each profile"
   ]
  },
  {
   "cell_type": "code",
   "execution_count": null,
   "metadata": {},
   "outputs": [],
   "source": [
    "df = pd.read_csv('../scraping-and-processing/scraping/data/storage/main.csv')\n",
    "df['date'] = pd.to_datetime(df['date'])\n",
    "users = df['user'].unique()\n",
    "weeks = pd.date_range('2020-01-13', max(df['date']), freq=\"W\")\n",
    "lable = [str(i)[:10] for i in  weeks]\n",
    "plot_lable = [\"\" if i % 20 != 0 else lable[i] for i in range(len(lable))]"
   ]
  },
  {
   "cell_type": "code",
   "execution_count": null,
   "metadata": {},
   "outputs": [],
   "source": [
    "fig, axes = plt.subplots(nrows=4, ncols=3)\n",
    "fig.suptitle('Number of Tweets by each profile \\n Grouped by weeks from January 2020 to September 2021', fontsize=16)\n",
    "\n",
    "counter = 0\n",
    "for user in users:\n",
    "    data = []\n",
    "    for week in range(0, len(weeks) - 1):\n",
    "        temp = df[np.logical_and(df[\"date\"] >= weeks[week], df[\"date\"] < weeks[week + 1])]\n",
    "        data.append(len(temp[temp['user'] == user]))\n",
    "    \n",
    "    data = pd.DataFrame(data, index=lable[:-1], columns=[user])\n",
    "    data.plot(kind='bar', figsize=(15, 8), ax=axes[int(counter/3),counter % 3], xticks = [])\n",
    "    counter += 1\n",
    "\n",
    "fig.savefig('number_of_tweets_by_each_user.pdf')"
   ]
  }
 ],
 "metadata": {
  "kernelspec": {
   "display_name": "Python 3",
   "language": "python",
   "name": "python3"
  },
  "language_info": {
   "codemirror_mode": {
    "name": "ipython",
    "version": 3
   },
   "file_extension": ".py",
   "mimetype": "text/x-python",
   "name": "python",
   "nbconvert_exporter": "python",
   "pygments_lexer": "ipython3",
   "version": "3.8.6"
  }
 },
 "nbformat": 4,
 "nbformat_minor": 5
}
